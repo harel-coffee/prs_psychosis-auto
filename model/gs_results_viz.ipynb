{
 "cells": [
  {
   "cell_type": "code",
   "execution_count": null,
   "metadata": {},
   "outputs": [],
   "source": [
    "from visualization import plot_gridmetrics, plot_roc, plot_macro_roc, plot_auprc, plot_beta\n",
    "import pandas as pd\n",
    "import os"
   ]
  },
  {
   "cell_type": "markdown",
   "metadata": {},
   "source": [
    "## Visualization module\n",
    "Visualization of grid-search training/validation F2 scores and AUPRC curves on test sets."
   ]
  },
  {
   "cell_type": "markdown",
   "metadata": {},
   "source": [
    "### GPC\n",
    "\n",
    "### OPCRIT 90"
   ]
  },
  {
   "cell_type": "code",
   "execution_count": null,
   "metadata": {},
   "outputs": [],
   "source": [
    "# Organize output folder as follows\n",
    "out_folder = \"\"\n",
    "\n",
    "clin_files = f'{out_folder}/clinical'\n",
    "gen_files = f'{out_folder}/genetic'\n",
    "all_files = f'{out_folder}/all'"
   ]
  },
  {
   "cell_type": "markdown",
   "metadata": {},
   "source": [
    "### Logistic regression\n",
    "Parameters:\n",
    "\n",
    "```\n",
    "\"LR\": {\n",
    "      \"penalty\": [\"l2\"],\n",
    "      \"C\": [0.001, 0.01, 0.1 ,1, 10, 100],\n",
    "      \"solver\": [\"saga\"],\n",
    "      \"max_iter\": [10000]\n",
    "      }\n",
    "```"
   ]
  },
  {
   "cell_type": "code",
   "execution_count": null,
   "metadata": {},
   "outputs": [],
   "source": [
    "cl_lr = pd.read_csv(os.path.join(clin_files, 'gridsearch_LRscores.txt'), sep=',', index_col=0)\n",
    "gen_lr = pd.read_csv(os.path.join(gen_files, 'gridsearch_LRscores.txt'), sep=',', index_col=0)\n",
    "all_lr = pd.read_csv(os.path.join(all_files, 'gridsearch_LRscores.txt'), sep=',', index_col=0)"
   ]
  },
  {
   "cell_type": "code",
   "execution_count": null,
   "metadata": {},
   "outputs": [],
   "source": [
    "plot_gridmetrics(cl_lr, scorers=[\"F2\"], color_list=[\"black\"], figsize=(6, 6),\n",
    "                 ylab=\"F2\", ylim_v=(0.0, 1.0), yticks_v=[0.0, 0.1, 0.2, 0.3, 0.4, 0.5, 0.6, 0.7, 0.8, 0.9, 1.0],\n",
    "                 setoff=0.05, horizontalalignment=\"right\",\n",
    "                 file_name=f\"{clin_files}/gs_opcrit90_clinical.pdf\", train_score=True)\n",
    "plot_gridmetrics(all_lr, scorers=[\"F2\"], color_list=[\"black\"], figsize=(6, 6),\n",
    "                 ylab=\"F2\", horizontalalignment=\"right\",\n",
    "                 setoff=0.05,\n",
    "                 ylim_v=(0.0, 1.0), yticks_v=[0.0, 0.1, 0.2, 0.3, 0.4, 0.5, 0.6, 0.7, 0.8, 0.9, 1.0],\n",
    "                 file_name=f\"{all_files}/gs_opcrit90_all.pdf\", train_score=True)\n",
    "plot_gridmetrics(gen_lr, scorers=[\"F2\"], color_list=[\"black\"], figsize=(6, 6),\n",
    "                 ylab=\"F2\", ylim_v=(0.0, 1.0), yticks_v=[0.0, 0.1, 0.2, 0.3, 0.4, 0.5, 0.6, 0.7, 0.8, 0.9, 1.0],\n",
    "                 horizontalalignment=\"right\",\n",
    "                 setoff=0.05,\n",
    "                 file_name=f\"{gen_files}/gs_opcrit90_genetic.pdf\", train_score=True)"
   ]
  },
  {
   "cell_type": "code",
   "execution_count": null,
   "metadata": {},
   "outputs": [],
   "source": [
    "# OPCRIT.90\n",
    "plot_auprc(f'{out_folder}', metric='f2', save='auprc_comparison.pdf')"
   ]
  },
  {
   "cell_type": "markdown",
   "metadata": {},
   "source": [
    "### Biome\n",
    "\n",
    "Random oversampling within grid-search cross-validation."
   ]
  },
  {
   "cell_type": "markdown",
   "metadata": {},
   "source": [
    "### Agressive"
   ]
  },
  {
   "cell_type": "code",
   "execution_count": null,
   "metadata": {},
   "outputs": [],
   "source": [
    "# Organize output folder as follows\n",
    "out_folder = \"\"\n",
    "\n",
    "clin_files = f'{out_folder}/clinical'\n",
    "gen_files = f'{out_folder}/genetic'\n",
    "all_files = f'{out_folder}/all'"
   ]
  },
  {
   "cell_type": "markdown",
   "metadata": {},
   "source": [
    "### Logistic regression\n",
    "Parameters:\n",
    "\n",
    "```\n",
    "\"LR\": {\n",
    "      \"penalty\": [\"l1\", \"l2\"],\n",
    "      \"C\": [0.001, 0.01, 0.1, 1.0, 10.0, 100.0],\n",
    "      \"solver\": [\"saga\"],\n",
    "      \"max_iter\": [10000]\n",
    "    }\n",
    "```"
   ]
  },
  {
   "cell_type": "code",
   "execution_count": null,
   "metadata": {},
   "outputs": [],
   "source": [
    "cl_lr = pd.read_csv(os.path.join(clin_files, 'gridsearch_LRscores.txt'), sep=',', index_col=0)\n",
    "gen_lr = pd.read_csv(os.path.join(gen_files, 'gridsearch_LRscores.txt'), sep=',', index_col=0)\n",
    "all_lr = pd.read_csv(os.path.join(all_files, 'gridsearch_LRscores.txt'), sep=',', index_col=0)"
   ]
  },
  {
   "cell_type": "code",
   "execution_count": null,
   "metadata": {},
   "outputs": [],
   "source": [
    "plot_gridmetrics(cl_lr, scorers=[\"F2\"], color_list=[\"black\"], figsize=(6, 6),\n",
    "                 ylab=\"F2\", horizontalalignment=\"left\", ylim_v=(0.0, 1.0), \n",
    "                 yticks_v=[0.0, 0.1, 0.2, 0.3, 0.4, 0.5, 0.6, 0.7, 0.8, 0.9, 1.0],\n",
    "                 setoff=0.19,\n",
    "                 file_name=f\"{clin_files}/gs_agressive_clinical.pdf\", train_score=True)\n",
    "plot_gridmetrics(all_lr, scorers=[\"F2\"], color_list=[\"black\"], figsize=(6, 6),\n",
    "                 ylab=\"F2\", ylim_v=(0.0, 1.0), \n",
    "                 yticks_v=[0.0, 0.1, 0.2, 0.3, 0.4, 0.5, 0.6, 0.7, 0.8, 0.9, 1.0],\n",
    "                 setoff=0.18,\n",
    "                 file_name=f\"{all_files}/gs_agressive_all.pdf\", train_score=True)\n",
    "plot_gridmetrics(gen_lr, scorers=[\"F2\"], color_list=[\"black\"], figsize=(6, 6),\n",
    "                 ylab=\"F2\", ylim_v=(0.0, 1.0), \n",
    "                 yticks_v=[0.0, 0.1, 0.2, 0.3, 0.4, 0.5, 0.6, 0.7, 0.8, 0.9, 1.0],\n",
    "                 setoff=-0.15, horizontalalignment=\"right\",\n",
    "                 file_name=f\"{gen_files}/gs_agressive_genetic.pdf\", train_score=True)"
   ]
  },
  {
   "cell_type": "code",
   "execution_count": null,
   "metadata": {},
   "outputs": [],
   "source": [
    "plot_auprc(f'{out_folder}', metric='f2', save='auprc_comparison.pdf')"
   ]
  },
  {
   "cell_type": "markdown",
   "metadata": {},
   "source": [
    "### Psych admit"
   ]
  },
  {
   "cell_type": "code",
   "execution_count": null,
   "metadata": {},
   "outputs": [],
   "source": [
    "# Organize output folder as follows\n",
    "out_folder = \"../out/out_biome_psych_admit\"\n",
    "\n",
    "clin_files = f'{out_folder}/clinical'\n",
    "gen_files = f'{out_folder}/genetic'\n",
    "all_files = f'{out_folder}/all'"
   ]
  },
  {
   "cell_type": "markdown",
   "metadata": {},
   "source": [
    "### Logistic regression\n",
    "Parameters:\n",
    "\n",
    "```\n",
    "\"LR\": {\n",
    "      \"penalty\": [\"l1\", \"l2\"],\n",
    "      \"C\": [0.001, 0.01, 0.1, 1.0, 10.0, 100.0],\n",
    "      \"solver\": [\"saga\"],\n",
    "      \"max_iter\": [10000]\n",
    "    }\n",
    "```"
   ]
  },
  {
   "cell_type": "code",
   "execution_count": null,
   "metadata": {},
   "outputs": [],
   "source": [
    "cl_lr = pd.read_csv(os.path.join(clin_files, 'gridsearch_LRscores.txt'), sep=',', index_col=0)\n",
    "gen_lr = pd.read_csv(os.path.join(gen_files, 'gridsearch_LRscores.txt'), sep=',', index_col=0)\n",
    "all_lr = pd.read_csv(os.path.join(all_files, 'gridsearch_LRscores.txt'), sep=',', index_col=0)"
   ]
  },
  {
   "cell_type": "code",
   "execution_count": null,
   "metadata": {},
   "outputs": [],
   "source": [
    "plot_gridmetrics(cl_lr, scorers=[\"F2\"], color_list=[\"black\"], figsize=(6, 6),\n",
    "                 ylab=\"F2\", horizontalalignment=\"left\", ylim_v=(0.0, 1.0), \n",
    "                 yticks_v=[0.0, 0.1, 0.2, 0.3, 0.4, 0.5, 0.6, 0.7, 0.8, 0.9, 1.0],\n",
    "                 setoff=0.11,\n",
    "                 file_name=f\"{clin_files}/gs_psych_admit_clinical.pdf\", train_score=True)\n",
    "plot_gridmetrics(all_lr, scorers=[\"F2\"], color_list=[\"black\"], figsize=(6, 6),\n",
    "                 ylab=\"F2\", ylim_v=(0.0, 1.0), \n",
    "                 yticks_v=[0.0, 0.1, 0.2, 0.3, 0.4, 0.5, 0.6, 0.7, 0.8, 0.9, 1.0],\n",
    "                 setoff=0.1,\n",
    "                 file_name=f\"{all_files}/gs_psych_admit_all.pdf\", train_score=True)\n",
    "plot_gridmetrics(gen_lr, scorers=[\"F2\"], color_list=[\"black\"], figsize=(6, 6),\n",
    "                 ylab=\"F2\", ylim_v=(0.0, 1.0), \n",
    "                 yticks_v=[0.0, 0.1, 0.2, 0.3, 0.4, 0.5, 0.6, 0.7, 0.8, 0.9, 1.0],\n",
    "                 setoff=0.085, horizontalalignment=\"right\",\n",
    "                 file_name=f\"{gen_files}/gs_psych_admit_genetic.pdf\", train_score=True)"
   ]
  },
  {
   "cell_type": "code",
   "execution_count": null,
   "metadata": {},
   "outputs": [],
   "source": [
    "plot_auprc(f'{out_folder}', metric='f2', save='auprc_comparison.pdf')"
   ]
  },
  {
   "cell_type": "code",
   "execution_count": null,
   "metadata": {},
   "outputs": [],
   "source": []
  }
 ],
 "metadata": {
  "kernelspec": {
   "display_name": "Python 3",
   "language": "python",
   "name": "python3"
  },
  "language_info": {
   "codemirror_mode": {
    "name": "ipython",
    "version": 3
   },
   "file_extension": ".py",
   "mimetype": "text/x-python",
   "name": "python",
   "nbconvert_exporter": "python",
   "pygments_lexer": "ipython3",
   "version": "3.8.5"
  }
 },
 "nbformat": 4,
 "nbformat_minor": 4
}